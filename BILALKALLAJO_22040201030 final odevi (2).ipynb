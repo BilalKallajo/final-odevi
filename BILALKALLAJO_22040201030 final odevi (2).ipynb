{
 "cells": [
  {
   "cell_type": "code",
   "execution_count": null,
   "id": "4dc43d4a",
   "metadata": {},
   "outputs": [],
   "source": [
    "1.SORU A)"
   ]
  },
  {
   "cell_type": "code",
   "execution_count": 60,
   "id": "0cfc4551",
   "metadata": {
    "scrolled": true
   },
   "outputs": [
    {
     "name": "stdout",
     "output_type": "stream",
     "text": [
      "    personal    Maas deneyim     gorev memnun\n",
      "0          1  normal    orta     uzman   evet\n",
      "1          2  yuksek     iyi  yonetici  hayir\n",
      "2          3   dusuk     yok     uzman   evet\n",
      "3          4  normal     iyi  yonetici  hayir\n",
      "4          5  normal    orta     uzman   evet\n",
      "5          6   dusuk     yok     uzman   evet\n",
      "6          7  yuksek     iyi  yonetici  hayir\n",
      "7          8  yuksek    orta     uzman   evet\n",
      "8          9  normal     yok  yonetici  hayir\n",
      "9         10   dusuk     iyi     uzman   evet\n",
      "10        11  yuksek    orta  yonetici  hayir\n"
     ]
    }
   ],
   "source": [
    "import pandas as pd\n",
    "\n",
    "data = {'personal': [1, 2, 3, 4, 5, 6, 7, 8, 9, 10, 11],\n",
    "    'Maas': ['normal', 'yuksek', 'dusuk', 'normal', 'normal', 'dusuk', 'yuksek', 'yuksek', 'normal', 'dusuk', 'yuksek'],\n",
    "    'deneyim': ['orta', 'iyi', 'yok', 'iyi', 'orta', 'yok', 'iyi', 'orta', 'yok', 'iyi', 'orta'],\n",
    "    'gorev': ['uzman', 'yonetici', 'uzman', 'yonetici', 'uzman', 'uzman', 'yonetici', 'uzman', 'yonetici', 'uzman', 'yonetici'],\n",
    "    'memnun': ['evet', 'hayir', 'evet', 'hayir', 'evet', 'evet', 'hayir', 'evet', 'hayir', 'evet', 'hayir']}\n",
    "\n",
    "df = pd.DataFrame(data)\n",
    "print(df)\n"
   ]
  },
  {
   "cell_type": "code",
   "execution_count": null,
   "id": "165905e8",
   "metadata": {},
   "outputs": [],
   "source": [
    "1.SORU B)"
   ]
  },
  {
   "cell_type": "code",
   "execution_count": 17,
   "id": "bf64b177",
   "metadata": {},
   "outputs": [
    {
     "name": "stdout",
     "output_type": "stream",
     "text": [
      "             Maaşı normal olanlar  Maaşı düşük olanlar  Maaşı yüksek olanlar\n",
      "Sol tarafta                    64                   14                    36\n",
      "Sağ tarafta                    29                    7                    23\n"
     ]
    }
   ],
   "source": [
    "import pandas as pd\n",
    "\n",
    "\n",
    "data = {'': ['Maaşı normal olanlar', 'Maaşı düşük olanlar', 'Maaşı yüksek olanlar'],\n",
    "        'Sol tarafta': [50, 14, 36],\n",
    "        'Sağ tarafta': [22, 7, 23]}\n",
    "\n",
    "\n",
    "example_counts = {'Maaşı normal olanlar': {'Sol tarafta': 0, 'Sağ tarafta': 0},\n",
    "                  'Maaşı düşük olanlar': {'Sol tarafta': 0, 'Sağ tarafta': 0},\n",
    "                  'Maaşı yüksek olanlar': {'Sol tarafta': 0, 'Sağ tarafta': 0}}\n",
    "\n",
    "\n",
    "for i in range(len(data)):\n",
    "    \n",
    "    if i == 0:\n",
    "        example_counts['Maaşı normal olanlar']['Sol tarafta'] = data['Sol tarafta'][i]\n",
    "        example_counts['Maaşı düşük olanlar']['Sol tarafta'] = data['Sol tarafta'][i + 1]\n",
    "        example_counts['Maaşı yüksek olanlar']['Sol tarafta'] = data['Sol tarafta'][i + 2]\n",
    "    elif i == 1:\n",
    "        example_counts['Maaşı normal olanlar']['Sol tarafta'] = data['Sol tarafta'][i - 1] + data['Sol tarafta'][i + 1]\n",
    "        example_counts['Maaşı düşük olanlar']['Sol tarafta'] = data['Sol tarafta'][i]\n",
    "        example_counts['Maaşı yüksek olanlar']['Sol tarafta'] = data['Sol tarafta'][i + 1]\n",
    "    elif i == 2:\n",
    "        example_counts['Maaşı normal olanlar']['Sol tarafta'] = data['Sol tarafta'][i - 2] + data['Sol tarafta'][i - 1]\n",
    "        example_counts['Maaşı düşük olanlar']['Sol tarafta'] = data['Sol tarafta'][i - 1]\n",
    "        example_counts['Maaşı yüksek olanlar']['Sol tarafta'] = data['Sol tarafta'][i]\n",
    "\n",
    "    \n",
    "    if i == 0:\n",
    "        example_counts['Maaşı normal olanlar']['Sağ tarafta'] = data['Sağ tarafta'][i]\n",
    "        example_counts['Maaşı düşük olanlar']['Sağ tarafta'] = data['Sağ tarafta'][i + 1]\n",
    "        example_counts['Maaşı yüksek olanlar']['Sağ tarafta'] = data['Sağ tarafta'][i + 2]\n",
    "    elif i == 1:\n",
    "        example_counts['Maaşı normal olanlar']['Sağ tarafta'] = data['Sağ tarafta'][i - 1] + data['Sağ tarafta'][i + 1]\n",
    "        example_counts['Maaşı düşük olanlar']['Sağ tarafta'] = data['Sağ tarafta'][i]\n",
    "        example_counts['Maaşı yüksek olanlar']['Sağ tarafta'] = data['Sağ tarafta'][i + 1]\n",
    "    elif i == 2:\n",
    "        example_counts['Maaşı normal olanlar']['Sağ tarafta'] = data['Sağ tarafta'][i - 2] + data['Sağ tarafta'][i - 1]\n",
    "        example_counts['Maaşı düşük olanlar']['Sağ tarafta'] = data['Sağ tarafta'][i - 1]\n",
    "        example_counts['Maaşı yüksek olanlar']['Sağ tarafta'] = data['Sağ tarafta'][i]\n",
    "\n",
    "\n",
    "df = pd.DataFrame(example_counts)\n",
    "\n",
    "\n",
    "print(df)"
   ]
  },
  {
   "cell_type": "code",
   "execution_count": null,
   "id": "5275ee19",
   "metadata": {},
   "outputs": [],
   "source": [
    "1.SORU C)"
   ]
  },
  {
   "cell_type": "code",
   "execution_count": 62,
   "id": "c3febeef",
   "metadata": {},
   "outputs": [
    {
     "name": "stdout",
     "output_type": "stream",
     "text": [
      "Sol Durum Olasılıkları:\n",
      "           Sol Olasılık  normal Ekonomik Durum  Yüksek Ekonomik Durum\n",
      "Sol Durum                                                            \n",
      "0                 0.125                   0.25                  0.625\n",
      "\n",
      "Sağ Durum Olasılıkları:\n",
      "           Sağ Olasılık  normal Ekonomik Durum  Yüksek Ekonomik Durum\n",
      "Sağ Durum                                                            \n",
      "0              0.521739               0.347826               0.130435\n"
     ]
    }
   ],
   "source": [
    "import pandas as pd\n",
    "\n",
    "\n",
    "data = {'Maas': ['Düşük', 'normal', 'Yüksek'],\n",
    "        'Düşük Ekonomik Durum': [6, 6, 1],\n",
    "        'normal Ekonomik Durum': [3, 5, 2],\n",
    "        'Yüksek Ekonomik Durum': [1, 2, 5]}\n",
    "df = pd.DataFrame(data).set_index('Maas')\n",
    "\n",
    "\n",
    "def twoing(df, feature, target):\n",
    "    n = df.sum().sum()\n",
    "    ni_ = df.sum(axis=1)\n",
    "    nj_ = df.sum(axis=0)\n",
    "    ni = ni_.loc[feature]\n",
    "    nj = nj_.loc[target]\n",
    "    a = df.loc[feature, target]\n",
    "    b = ni - a\n",
    "    c = nj - a\n",
    "    d = n - a - b - c\n",
    "    p_t = (a + b) / n\n",
    "    p_f = (c + d) / n\n",
    "    p_ft = a / (a + b)\n",
    "    p_ff = c / (c + d)\n",
    "    delta_p = abs(p_ft - p_ff)\n",
    "    delta_p0 = abs(p_t - p_f)\n",
    "    return delta_p * delta_p0\n",
    "\n",
    "twoing_scores = {}\n",
    "for feature in df.index:\n",
    "    for target in df.columns:\n",
    "        score = twoing(df, feature, target)\n",
    "        twoing_scores[(feature, target)] = score\n",
    "\n",
    "top_two = sorted(twoing_scores.items(), key=lambda x: x[1], reverse=True)[:2]\n",
    "\n",
    "\n",
    "left_data = df.loc[[top_two[0][0][0], top_two[1][0][0]]]\n",
    "right_data = df.drop([top_two[0][0][0], top_two[1][0][0]])\n",
    "\n",
    "left_prob = left_data.sum(axis=0) / left_data.sum().sum()\n",
    "right_prob = right_data.sum(axis=0) / right_data.sum().sum()\n",
    "\n",
    "left_df = pd.DataFrame(left_prob).transpose().rename_axis('Sol Durum').rename(columns={'Düşük Ekonomik Durum': 'Sol Olasılık'})\n",
    "right_df = pd.DataFrame(right_prob).transpose().rename_axis('Sağ Durum').rename(columns={'Düşük Ekonomik Durum': 'Sağ Olasılık'})\n",
    "\n",
    "\n",
    "print(\"Sol Durum Olasılıkları:\")\n",
    "print(left_df)\n",
    "\n",
    "print(\"\\nSağ Durum Olasılıkları:\")\n",
    "print(right_df)"
   ]
  },
  {
   "cell_type": "code",
   "execution_count": null,
   "id": "6376368d",
   "metadata": {},
   "outputs": [],
   "source": [
    "2.SORU A)"
   ]
  },
  {
   "cell_type": "code",
   "execution_count": 36,
   "id": "7c31f1a5",
   "metadata": {},
   "outputs": [
    {
     "name": "stdout",
     "output_type": "stream",
     "text": [
      "        age       sex       bmi        bp        s1        s2        s3  \\\n",
      "0  0.038076  0.050680  0.061696  0.021872 -0.044223 -0.034821 -0.043401   \n",
      "1 -0.001882 -0.044642 -0.051474 -0.026328 -0.008449 -0.019163  0.074412   \n",
      "2  0.085299  0.050680  0.044451 -0.005670 -0.045599 -0.034194 -0.032356   \n",
      "3 -0.089063 -0.044642 -0.011595 -0.036656  0.012191  0.024991 -0.036038   \n",
      "4  0.005383 -0.044642 -0.036385  0.021872  0.003935  0.015596  0.008142   \n",
      "\n",
      "         s4        s5        s6  target age_group  \n",
      "0 -0.002592  0.019907 -0.017646   151.0      genç  \n",
      "1 -0.039493 -0.068332 -0.092204    75.0       NaN  \n",
      "2 -0.002592  0.002861 -0.025930   141.0      genç  \n",
      "3  0.034309  0.022688 -0.009362   206.0       NaN  \n",
      "4 -0.002592 -0.031988 -0.046641   135.0      genç  \n"
     ]
    }
   ],
   "source": [
    "import pandas as pd\n",
    "\n",
    "\n",
    "diabetes = load_diabetes()\n",
    "\n",
    "\n",
    "df = pd.DataFrame(diabetes.data, columns=diabetes.feature_names)\n",
    "df[\"target\"] = diabetes.target\n",
    "\n",
    "\n",
    "age_labels = [\"genç\", \"orta yaşlı\", \"yaşlı\"]\n",
    "cut_points = [0, 30, 40, float(\"inf\")]\n",
    "df[\"age_group\"] = pd.cut(df[\"age\"], bins=cut_points, labels=age_labels)\n",
    "\n",
    "\n",
    "df[\"target\"].replace({1: \"1\", 0: \"0\"}, inplace=True)\n",
    "\n",
    "\n",
    "print(df.head())"
   ]
  },
  {
   "cell_type": "code",
   "execution_count": null,
   "id": "9b8a3396",
   "metadata": {},
   "outputs": [],
   "source": [
    "2.SORU B)"
   ]
  },
  {
   "cell_type": "code",
   "execution_count": 50,
   "id": "a6dc376e",
   "metadata": {},
   "outputs": [
    {
     "name": "stdout",
     "output_type": "stream",
     "text": [
      "Kişinin bilgisayar alıp alma olasılığı: 0.5882352941176471\n",
      "Kişinin bilgisayar almama olasılığı: 0.411764705882353\n"
     ]
    }
   ],
   "source": [
    "\n",
    "p_genc_bilgisayar_almak = 0.6\n",
    "p_medium_income_bilgisayar_almak = 0.4\n",
    "p_student_yes_bilgisayar_almak = 0.3\n",
    "p_credit_fair_bilgisayar_almak = 0.5\n",
    "\n",
    "p_genc_bilgisayar_almamak = 0.2\n",
    "p_medium_income_bilgisayar_almamak = 0.6\n",
    "p_student_yes_bilgisayar_almamak = 0.7\n",
    "p_credit_fair_bilgisayar_almamak = 0.3\n",
    "\n",
    "\n",
    "p_x_bilgisayar_almak = p_genc_bilgisayar_almak * p_medium_income_bilgisayar_almak * p_student_yes_bilgisayar_almak * p_credit_fair_bilgisayar_almak\n",
    "\n",
    "\n",
    "p_x_bilgisayar_almamak = p_genc_bilgisayar_almamak * p_medium_income_bilgisayar_almamak * p_student_yes_bilgisayar_almamak * p_credit_fair_bilgisayar_almamak\n",
    "\n",
    "\n",
    "p_x = p_x_bilgisayar_almak * 0.5 + p_x_bilgisayar_almamak * 0.5\n",
    "\n",
    "\n",
    "p_bilgisayar_alacak = p_x_bilgisayar_almak * 0.5 / p_x\n",
    "p_bilgisayar_almayacak = p_x_bilgisayar_almamak * 0.5 / p_x\n",
    "\n",
    "print('Kişinin bilgisayar alıp alma olasılığı:', p_bilgisayar_alacak)\n",
    "print('Kişinin bilgisayar almama olasılığı:', p_bilgisayar_almayacak)"
   ]
  },
  {
   "cell_type": "code",
   "execution_count": null,
   "id": "b3fddace",
   "metadata": {},
   "outputs": [],
   "source": [
    "3.SORU A)"
   ]
  },
  {
   "cell_type": "code",
   "execution_count": 51,
   "id": "43ba354e",
   "metadata": {},
   "outputs": [
    {
     "name": "stdout",
     "output_type": "stream",
     "text": [
      "   X  Y\n",
      "0  0  1\n",
      "1  1  3\n",
      "2  2  2\n",
      "3  3  5\n",
      "4  4  4\n",
      "X koordinatları: [0 1 2 3 4]\n",
      "Y koordinatları: [1 3 2 5 4]\n"
     ]
    }
   ],
   "source": [
    "import pandas as pd\n",
    "\n",
    "data = {'X': [0, 1, 2, 3, 4],\n",
    "        'Y': [1, 3, 2, 5, 4]}\n",
    "\n",
    "df = pd.DataFrame(data)\n",
    "\n",
    "print(df)\n",
    "print('X koordinatları:', df['X'].values)\n",
    "print('Y koordinatları:', df['Y'].values)"
   ]
  },
  {
   "cell_type": "code",
   "execution_count": null,
   "id": "7ffa717f",
   "metadata": {},
   "outputs": [],
   "source": [
    "3.SORU B)"
   ]
  },
  {
   "cell_type": "code",
   "execution_count": 57,
   "id": "f1499a90",
   "metadata": {},
   "outputs": [
    {
     "name": "stdout",
     "output_type": "stream",
     "text": [
      "   X  Y  Distance  Rank\n",
      "5  7  3  0.000000     1\n",
      "4  7  3  4.472136     2\n",
      "3  3  5  4.472136     3\n",
      "2  2  2  5.099020     4\n",
      "1  1  3  6.000000     5\n",
      "0  0  1  7.280110     6\n"
     ]
    },
    {
     "name": "stderr",
     "output_type": "stream",
     "text": [
      "C:\\Users\\bqlaj\\AppData\\Local\\Temp\\ipykernel_5004\\3020079428.py:11: FutureWarning: The frame.append method is deprecated and will be removed from pandas in a future version. Use pandas.concat instead.\n",
      "  df = df.append(new_df, ignore_index=True)\n"
     ]
    }
   ],
   "source": [
    "import pandas as pd\n",
    "import math\n",
    "\n",
    "\n",
    "data = {'X': [0, 1, 2, 3, 4], 'Y': [1, 3, 2, 5, 4]}\n",
    "df = pd.DataFrame(data)\n",
    "\n",
    "\n",
    "new_data = {'X': [7], 'Y': [3]}\n",
    "new_df = pd.DataFrame(new_data)\n",
    "df = df.append(new_df, ignore_index=True)\n",
    "\n",
    "\n",
    "distances = []\n",
    "for i in range(len(df)):\n",
    "    dist = math.sqrt((df['X'][i]-7)**2 + (df['Y'][i]-3)**2)\n",
    "    distances.append(dist)\n",
    "df['Distance'] = distances\n",
    "\n",
    "\n",
    "df = df.sort_values(by=['Distance'])\n",
    "df['Rank'] = range(1, len(df)+1)\n",
    "\n",
    "\n",
    "df.loc[4] = [7, 3, distances[4-1], 1]\n",
    "df['Rank'] = range(1, len(df)+1)\n",
    "\n",
    "\n",
    "print(df)"
   ]
  },
  {
   "cell_type": "code",
   "execution_count": null,
   "id": "85702ca8",
   "metadata": {},
   "outputs": [],
   "source": [
    "5.SORU"
   ]
  },
  {
   "cell_type": "code",
   "execution_count": 73,
   "id": "f3c8c9f2",
   "metadata": {},
   "outputs": [
    {
     "name": "stdout",
     "output_type": "stream",
     "text": [
      "Doğrusal Regresyon Katsayıları: [-0.02547639 -0.15343131  0.19443607  0.52832453]\n",
      "Yeni örnek sınıf A'ya aittir.\n"
     ]
    }
   ],
   "source": [
    "import numpy as np\n",
    "\n",
    "\n",
    "X = np.array([[4.2, 2.1, 1.5, 0.2],\n",
    "              [6.3, 3.3, 4.5, 1.5],\n",
    "              [5.1, 1.9, 1.4, 0.3],\n",
    "              [6.2, 2.4, 4.3, 1.3],\n",
    "              [5.4, 2.2, 1.3, 0.4],\n",
    "              [4.3, 2.1, 1.6, 0.3]])\n",
    "\n",
    "\n",
    "Y = np.array([0, 1, 0, 1, 0, 0])\n",
    "\n",
    "\n",
    "new = np.array([5, 3.4, 1.5, 0.2])\n",
    "\n",
    "\n",
    "X_transpose = np.transpose(X)\n",
    "X_transpose_X = np.dot(X_transpose, X)\n",
    "X_transpose_X_inverse = np.linalg.inv(X_transpose_X)\n",
    "X_transpose_Y = np.dot(X_transpose, Y)\n",
    "\n",
    "beta_hat = np.dot(X_transpose_X_inverse, X_transpose_Y)\n",
    "\n",
    "\n",
    "print('Doğrusal Regresyon Katsayıları:', beta_hat)\n",
    "\n",
    "\n",
    "y_pred = np.dot(beta_hat, new)\n",
    "\n",
    "if y_pred > 0.5:\n",
    "    print(\"Yeni örnek sınıf B'ye aittir.\")\n",
    "else:\n",
    "    print(\"Yeni örnek sınıf A'ya aittir.\")"
   ]
  }
 ],
 "metadata": {
  "kernelspec": {
   "display_name": "Python 3 (ipykernel)",
   "language": "python",
   "name": "python3"
  },
  "language_info": {
   "codemirror_mode": {
    "name": "ipython",
    "version": 3
   },
   "file_extension": ".py",
   "mimetype": "text/x-python",
   "name": "python",
   "nbconvert_exporter": "python",
   "pygments_lexer": "ipython3",
   "version": "3.10.9"
  }
 },
 "nbformat": 4,
 "nbformat_minor": 5
}
